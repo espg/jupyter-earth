{
 "cells": [
  {
   "cell_type": "markdown",
   "id": "independent-ghost",
   "metadata": {},
   "source": [
    "# Intake"
   ]
  },
  {
   "cell_type": "markdown",
   "id": "veterinary-mineral",
   "metadata": {},
   "source": [
    "[Intake](https://intake.readthedocs.io/) is a package for finding, investigating, loading and disseminating data."
   ]
  }
 ],
 "metadata": {
  "kernelspec": {
   "display_name": "Python 3",
   "language": "python",
   "name": "python3"
  },
  "language_info": {
   "codemirror_mode": {
    "name": "ipython",
    "version": 3
   },
   "file_extension": ".py",
   "mimetype": "text/x-python",
   "name": "python",
   "nbconvert_exporter": "python",
   "pygments_lexer": "ipython3",
   "version": "3.8.6"
  }
 },
 "nbformat": 4,
 "nbformat_minor": 5
}
