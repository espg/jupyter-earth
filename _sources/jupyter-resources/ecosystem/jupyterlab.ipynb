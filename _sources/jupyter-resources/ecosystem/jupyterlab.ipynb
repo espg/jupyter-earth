{
 "cells": [
  {
   "cell_type": "markdown",
   "id": "peripheral-detection",
   "metadata": {},
   "source": [
    "# JupyterLab\n",
    "\n",
    "_JupyterLab is a web-based interactive development environment for Jupyter notebooks, code, and data._ \n",
    "\n",
    "You can arrange multiple documents / windows to customize the layout to fit your needs:\n",
    "- notebooks\n",
    "- outputs\n",
    "- markdown files\n",
    "- terminal\n",
    "- interactive console\n",
    "- text files, python files\n",
    "- data / documents with rich views (including csv, pdf, json, hdf, ...) \n",
    "\n",
    "<img src=\"../images/jupyterlab-widgets-gif.gif\" width=80%>\n",
    "\n",
    "**Additional resources**\n",
    "- [JupyterLab documentation](https://jupyterlab.readthedocs.io/en/stable/)\n"
   ]
  },
  {
   "cell_type": "markdown",
   "id": "general-roberts",
   "metadata": {},
   "source": [
    "This video overview is from the [JupyterLab getting started documentation](https://jupyterlab.readthedocs.io/en/stable/getting_started/overview.html)"
   ]
  },
  {
   "cell_type": "code",
   "execution_count": 1,
   "id": "bibliographic-colleague",
   "metadata": {},
   "outputs": [],
   "source": [
    "from IPython import display"
   ]
  },
  {
   "cell_type": "code",
   "execution_count": 2,
   "id": "superb-stuart",
   "metadata": {},
   "outputs": [
    {
     "data": {
      "image/jpeg": "[encoded data removed]",
      "text/html": [
       "\n",
       "        <iframe\n",
       "            width=\"600\"\n",
       "            height=\"300\"\n",
       "            src=\"https://www.youtube.com/embed/A5YyoCKxEOU\"\n",
       "            frameborder=\"0\"\n",
       "            allowfullscreen\n",
       "        ></iframe>\n",
       "        "
      ],
      "text/plain": [
       "<IPython.lib.display.YouTubeVideo at 0x111d51070>"
      ]
     },
     "execution_count": 2,
     "metadata": {},
     "output_type": "execute_result"
    }
   ],
   "source": [
    "display.YouTubeVideo(\"A5YyoCKxEOU\", width=600)"
   ]
  }
 ],
 "metadata": {
  "kernelspec": {
   "display_name": "Python 3",
   "language": "python",
   "name": "python3"
  },
  "language_info": {
   "codemirror_mode": {
    "name": "ipython",
    "version": 3
   },
   "file_extension": ".py",
   "mimetype": "text/x-python",
   "name": "python",
   "nbconvert_exporter": "python",
   "pygments_lexer": "ipython3",
   "version": "3.8.5"
  }
 },
 "nbformat": 4,
 "nbformat_minor": 5
}
