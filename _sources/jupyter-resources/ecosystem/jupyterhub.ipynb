{
 "cells": [
  {
   "cell_type": "markdown",
   "id": "endangered-notebook",
   "metadata": {},
   "source": [
    "# JupyterHub\n",
    "\n",
    "<img src=\"https://jupyter.org/assets/hublogo.svg\" width=30%>\n",
    "\n",
    "JupyterHub is a multi-user Jupyter that can be deployed on the cloud or your own hardware. You may have used JupyterHub if you have ever logged in to Jupyter at an HPC center or on your campus. \n",
    "\n",
    "**Additional Resources**\n",
    "- [JupyterHub Documentation](https://jupyterhub.readthedocs.io)\n",
    "- [The Littlest JupyterHub](https://tljh.jupyter.org)\n",
    "- [Zero to JupyterHub - Kubernetes](https://zero-to-jupyterhub.readthedocs.io)\n"
   ]
  },
  {
   "cell_type": "markdown",
   "id": "printable-confidentiality",
   "metadata": {},
   "source": [
    "## Conceptual model of JupyterHub\n",
    "\n",
    "\n",
    "\n",
    "![JupyterHub Conceptual Model](../images/2019-06-sdss-jupyterhub.png)\n",
    "\n",
    "Image credit: [Chris Holdgraf](https://github.com/choldgraf). Presented at the SDSS Conference. [Original slides](https://docs.google.com/presentation/d/1w-gvBn1c7Bos2ZPyKlBwMaO-caxgfpOwf6M00RtZ92c/edit#slide=id.g5a990f77bb_0_0)"
   ]
  },
  {
   "cell_type": "markdown",
   "id": "convertible-diversity",
   "metadata": {},
   "source": [
    "## The Littlest JupyterHub (TLJH)\n",
    "\n",
    "TLJH is a simple JupyterHub distribution for a small (0-100) number of users on a single server, for example for a class or a small research group. In the docs, there us a guide: [When to use The Littlest JupyterHub](https://tljh.jupyter.org/en/latest/topic/whentouse.html#topic-whentouse) to determine if this is the right tool for you. The [installation instructions](https://tljh.jupyter.org/en/latest/install/index.html) include guides for deploying TLJH on: Digital Ocean, OVH, Jetstream, Google Cloud, Amazon Web Services, Azure, or your own server. "
   ]
  },
  {
   "cell_type": "markdown",
   "id": "worldwide-colorado",
   "metadata": {},
   "source": [
    "## Zero to JupyterHub for Kubernetes (Z2JH)\n",
    "\n",
    "The [Z2JH guide](https://zero-to-jupyterhub.readthedocs.io/en/stable/index.html) outlines how to deploy JupyterHub on the commercial cloud. It is:\n",
    "- Scalable in both users and in resources\n",
    "- Uses Docker for environment management\n",
    "- Agnostic to the provider and hardware configuration\n"
   ]
  },
  {
   "cell_type": "markdown",
   "id": "divided-variable",
   "metadata": {},
   "source": [
    "## Jupyter on HPC centers in the US\n",
    "\n",
    "Here are links to deployments on some of the major HPC facilities in the US that are accessed by geoscience researchers:\n",
    "- NERSC ([login](https://jupyter.nersc.gov), [documentation](https://docs.nersc.gov/services/jupyter/))\n",
    "- NCAR Cheyenne & Casper ([login](https://jupyterhub.ucar.edu/), [documentation](https://www2.cisl.ucar.edu/resources/jupyterhub-ncar))\n",
    "\n",
    "If you would like add to this list, please feel free to [suggest a change in the source repository](https://github.com/pangeo-data/jupyter-earth)"
   ]
  }
 ],
 "metadata": {
  "kernelspec": {
   "display_name": "Python 3",
   "language": "python",
   "name": "python3"
  },
  "language_info": {
   "codemirror_mode": {
    "name": "ipython",
    "version": 3
   },
   "file_extension": ".py",
   "mimetype": "text/x-python",
   "name": "python",
   "nbconvert_exporter": "python",
   "pygments_lexer": "ipython3",
   "version": "3.8.5"
  }
 },
 "nbformat": 4,
 "nbformat_minor": 5
}
