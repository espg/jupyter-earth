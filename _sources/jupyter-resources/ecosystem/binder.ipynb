{
 "cells": [
  {
   "cell_type": "markdown",
   "id": "twelve-pocket",
   "metadata": {},
   "source": [
    "# Binder\n",
    "\n",
    "<img src=\"https://mybinder.org/static/logo.svg\" width=30%>\n",
    "\n",
    "_live, computational environments, running on the cloud, built from your research repositories_\n",
    "\n",
    "Binder: \n",
    "- creates reproducible containers from repositories ([repo2docker](https://repo2docker.readthedocs.io/en/latest/))\n",
    "- generates user sessions that serve these containers ([JupyterHub])\n",
    "- provides an interface to create, share, and use these sessions (BinderHub)\n",
    "- demonstrates the above as a free public service/tech demo ",
    " (mybinder.org)\n",
    "\n",
    "\n",
    "**Additional Resources**\n",
    "- [mybinder.org](https://mybinder.org)\n",
    "- [mybinder.org documentation](https://mybinder.readthedocs.io)\n",
    "- [Binder documentation](https://mybinder.readthedocs.io)"
   ]
  },
  {
   "cell_type": "markdown",
   "id": "outer-threat",
   "metadata": {},
   "source": [
    "## How to share your notebooks using mybinder.org"
   ]
  },
  {
   "cell_type": "code",
   "execution_count": null,
   "id": "generous-thickness",
   "metadata": {},
   "outputs": [],
   "source": []
  }
 ],
 "metadata": {
  "kernelspec": {
   "display_name": "Python 3",
   "language": "python",
   "name": "python3"
  },
  "language_info": {
   "codemirror_mode": {
    "name": "ipython",
    "version": 3
   },
   "file_extension": ".py",
   "mimetype": "text/x-python",
   "name": "python",
   "nbconvert_exporter": "python",
   "pygments_lexer": "ipython3",
   "version": "3.8.5"
  }
 },
 "nbformat": 4,
 "nbformat_minor": 5
}
