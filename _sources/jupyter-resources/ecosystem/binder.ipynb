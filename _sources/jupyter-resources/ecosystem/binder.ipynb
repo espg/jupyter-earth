{
 "cells": [
  {
   "cell_type": "markdown",
   "id": "combined-mozambique",
   "metadata": {},
   "source": [
    "# Binder\n",
    "\n",
    "<img src=\"https://mybinder.org/static/logo.svg\" width=30%>\n",
    "\n",
    "_live, computational environments, running on the cloud, built from your research repositories_\n",
    "\n",
    "**Additional Resources**\n",
    "- [mybinder.org](https://mybinder.org)\n",
    "- [mybinder.org documentation](https://mybinder.readthedocs.io)\n",
    "- [Binder documentation](https://mybinder.readthedocs.io)"
   ]
  },
  {
   "cell_type": "markdown",
   "id": "russian-andrew",
   "metadata": {},
   "source": [
    "## Creating a Binder-ready repository\n",
    "\n",
    "We highly recomment the Zero-to-Binder tutorials available in [Julia](https://github.com/alan-turing-institute/the-turing-way/blob/master/workshops/boost-research-reproducibility-binder/workshop-presentations/zero-to-binder-julia.md), [Python](https://github.com/alan-turing-institute/the-turing-way/blob/master/workshops/boost-research-reproducibility-binder/workshop-presentations/zero-to-binder-python.md) or [R](https://github.com/alan-turing-institute/the-turing-way/blob/master/workshops/boost-research-reproducibility-binder/workshop-presentations/zero-to-binder-r.md) for getting a respository of notebooks Binder-ready. \n",
    "\n",
    "\n",
    "![Binder Repo](../images/binder-repo.png)\n",
    "\n",
    "### Specifying an environment\n",
    "In order to reproduce computational work in a notebook, we need both the lines of code in the notebook as well as the description of the environment and software dependencies that the code in the notebook relies on. \n",
    "\n",
    "Software dependencies can be specified in standard configuration files. Some of the common configuration files include\n",
    "\n",
    "- [environment.yml](https://mybinder.readthedocs.io/en/latest/using/config_files.html#environment-yml-install-a-conda-environment): a standard configuration file for installing packages from conda. \n",
    "- [requirements.txt](https://mybinder.readthedocs.io/en/latest/using/config_files.html#requirements-txt-install-a-python-environment): a standard file for installing Python packages using `pip install`\n",
    "- [Project.toml](https://mybinder.readthedocs.io/en/latest/using/config_files.html#project-toml-install-a-julia-environment): the configuration file for installing a Julia environment\n",
    "- [install.R](https://mybinder.readthedocs.io/en/latest/using/config_files.html#install-r-install-an-r-rstudio-environment): the configuration file for installing an R or RStudio environment\n",
    "\n",
    "A complete listing of configuration files that can be used with Binder is available in the [documentation](https://mybinder.readthedocs.io/en/latest/using/config_files.html). \n",
    "\n",
    "\n",
    "### Tips for reproducibility of results\n",
    "- `Kernel --> Restart --> Run All`: Check that your notebook can run from start to finish without errors and that the state of the notebook is the same as what you are expecting (for more, see the discussion on [managing state](managing-state.ipynb))\n",
    "- Pin dependencies in your environment configuration file. You can capture the current versions in your environment, for example using \n",
    "    - `pip freeze` to export the exact version of every Python package in your environment in a format that can be used in requirements.txt \n",
    "    - or `conda env export -n <env-name>` to export to an `environment.yml` file\n",
    "\n",
    "\n",
    "### Example repositories\n",
    "An extensive listing of Binder-ready repositories for a range of programming languages is available in the [documentation](https://mybinder.readthedocs.io/en/latest/examples/sample_repos.html). For the geoscience community, a couple particularly-relevant examples include \n",
    "- [Python environment with a requirements.txt](https://github.com/binder-examples/requirements)\n",
    "- [Conda environment with an environment.yml](https://github.com/binder-examples/conda) \n",
    "- [A Julia environment](https://github.com/binder-examples/demo-julia)\n",
    "- [Julia + Python environments](https://github.com/binder-examples/julia-python)\n",
    "- [An R environment](https://github.com/binder-examples/r)"
   ]
  },
  {
   "cell_type": "markdown",
   "id": "quality-anime",
   "metadata": {},
   "source": [
    "## Sharing your notebooks on a public binder\n",
    "\n",
    "[mybinder.org](https://mybinder.org) and [binder.pangeo.io](https://binder.pangeo.io) provide public binders where you can create a link to an interactive session with your code. The image below shows the interface for [mybinder.org](https://mybinder.org). The Pangeo Binder interface is very similar and has additional functionality for launching a Dask-Kubernetes cluster for distributed computation. \n",
    "\n",
    "![MyBinder.org](../images/binder.png)\n",
    "\n",
    "### Step 1: Specify Repository Location\n",
    "\n",
    "If your repository is public on GitHub, as a Gist, on GitLab, Zenodo, Fighare or and of the locations in the first dropdown menu, the first step is to paste the URL into the first entry box. \n",
    "\n",
    "After you enter this, the URL in the \"Copy the URL below and share your Binder with others\" will begin to build. \n",
    "\n",
    "```https://mybinder.org/v2/gh/<username>/<repository>/HEAD```\n",
    "\n",
    "### Step 2 (Optional): Specify a specific branch, tag or commit \n",
    "\n",
    "If there is a specific branch, tag or commit you would like built, you can enter that here. For example to build the `main` branch, you enter `main` and the URL will update to \n",
    "\n",
    "```https://mybinder.org/v2/gh/<username>/<repository>/main```\n",
    "\n",
    "### Step 3 (Optional): Specify the path to a notebook or URL for a different interface \n",
    "\n",
    "If you would like a specific notebook to open when a user launches, you can specify that here. For example, if I want to point users to a summary notebook called `index.ipynb`, then on the right, I set the dropdown to \"File\", enter `index.ipynb` and the URL will update to \n",
    "\n",
    "```https://mybinder.org/v2/gh/<username>/<repository>/main?filepath=index.ipynb```\n",
    "\n",
    "Alternatively, if you wanted to open in JupyterLab rather than the notebook (the current default), you can change the dropdown on the right to \"URL\" and enter `lab`. The URL will then update to \n",
    "\n",
    "```https://mybinder.org/v2/gh/<username>/<repository>/main?urlpath=lab```\n",
    "\n",
    "Note that if you wanted to specify both a filepath and a urlpath, you can customize the link yourself\n",
    "\n",
    "```https://mybinder.org/v2/gh/<username>/<repository>/main?urlpath=lab?filepath=index.ipynb```\n",
    "\n",
    "### Step 4: Copy & Share\n",
    "\n",
    "You can copy the constructed URL or there is also a badge that you can put in your repository README to show that your code can be run on Binder! \n"
   ]
  },
  {
   "cell_type": "markdown",
   "id": "beautiful-insert",
   "metadata": {},
   "source": [
    "## What happens when Binder builds your repository?\n",
    "\n",
    "1. Binder fetches your repository from GitHub or wherever you specified its source location. \n",
    "\n",
    "2. [repo2docker](https://repo2docker.readthedocs.io) looks at your repository for the specified environment and builds a docker container from your repository \n",
    "    ![repo2docker](../images/repo2docker.png)\n",
    "    \n",
    "3. Binder launches that Docker image in the Cloud\n",
    "\n",
    "4. You are connected to that interactive session in your web-browser. "
   ]
  },
  {
   "cell_type": "markdown",
   "id": "worthy-raleigh",
   "metadata": {},
   "source": [
    "## Some Geoscience Binders\n",
    "\n",
    "We recommend taking a look at the [Pangeo Gallery](https://gallery.pangeo.io) for examples. \n",
    "\n",
    "![Pangeo Gallery](../images/pangeo-gallery.png)"
   ]
  },
  {
   "cell_type": "code",
   "execution_count": null,
   "id": "future-enhancement",
   "metadata": {},
   "outputs": [],
   "source": []
  }
 ],
 "metadata": {
  "kernelspec": {
   "display_name": "Python 3",
   "language": "python",
   "name": "python3"
  },
  "language_info": {
   "codemirror_mode": {
    "name": "ipython",
    "version": 3
   },
   "file_extension": ".py",
   "mimetype": "text/x-python",
   "name": "python",
   "nbconvert_exporter": "python",
   "pygments_lexer": "ipython3",
   "version": "3.8.5"
  }
 },
 "nbformat": 4,
 "nbformat_minor": 5
}
