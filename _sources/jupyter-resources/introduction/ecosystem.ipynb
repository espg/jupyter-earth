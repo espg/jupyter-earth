{
 "cells": [
  {
   "cell_type": "markdown",
   "id": "gorgeous-power",
   "metadata": {},
   "source": [
    "# Ecosystem \n",
    "\n",
    "_What do we mean by an \"ecosystem\" of software projects?_\n",
    "\n",
    "[Wikipedia](https://en.wikipedia.org/wiki/Ecosystem) defines an ecosystem as\n",
    "\n",
    ">  a community of living organisms in conjunction with the nonliving components of their environment, interacting as a system\n",
    "\n",
    "A few key ideas that are common among living ecosystems and an \"ecosystem\" of software projects are: \n",
    "- community\n",
    "- a common environment\n",
    "- interaction and interoperability\n",
    "- reliance and interdependence\n",
    "\n",
    "![python-stack](../images/python-stack.png)"
   ]
  },
  {
   "cell_type": "code",
   "execution_count": null,
   "id": "advanced-breast",
   "metadata": {},
   "outputs": [],
   "source": []
  }
 ],
 "metadata": {
  "kernelspec": {
   "display_name": "Python 3",
   "language": "python",
   "name": "python3"
  },
  "language_info": {
   "codemirror_mode": {
    "name": "ipython",
    "version": 3
   },
   "file_extension": ".py",
   "mimetype": "text/x-python",
   "name": "python",
   "nbconvert_exporter": "python",
   "pygments_lexer": "ipython3",
   "version": "3.8.5"
  }
 },
 "nbformat": 4,
 "nbformat_minor": 5
}
